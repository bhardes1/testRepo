{
  "nbformat": 4,
  "nbformat_minor": 0,
  "metadata": {
    "colab": {
      "name": "Project3.ipynb",
      "provenance": [],
      "collapsed_sections": [],
      "authorship_tag": "ABX9TyOpbHwHZHy4vcA34v+B/WFt",
      "include_colab_link": true
    },
    "kernelspec": {
      "name": "python3",
      "display_name": "Python 3"
    }
  },
  "cells": [
    {
      "cell_type": "markdown",
      "metadata": {
        "id": "view-in-github",
        "colab_type": "text"
      },
      "source": [
        "<a href=\"https://colab.research.google.com/github/bhardes1/testRepo/blob/master/Project3.ipynb\" target=\"_parent\"><img src=\"https://colab.research.google.com/assets/colab-badge.svg\" alt=\"Open In Colab\"/></a>"
      ]
    },
    {
      "cell_type": "code",
      "metadata": {
        "id": "pPJgc7OFa3k4",
        "colab_type": "code",
        "colab": {
          "base_uri": "https://localhost:8080/",
          "height": 220
        },
        "outputId": "e6c94d19-247f-4a59-97b2-1df1f8e613c4"
      },
      "source": [
        "import numpy as np\n",
        "from scipy import stats as st\n",
        "import pandas as pd\n",
        "import seaborn as sns\n",
        "import matplotlib.pyplot as plt\n",
        "# this sets some style parameters\n",
        "sns.set()\n",
        "\n",
        "# Download in the data if it's not already there\n",
        "! if [ ! -e kirby21.csv ]; \\\n",
        "then wget https://raw.githubusercontent.com/bcaffo/ds4bme_intro/master/data/kirby21.csv; \\\n",
        "fi;\n",
        "\n",
        "# Read in the data and display a few rows\n",
        "dat = pd.read_csv(\"kirby21.csv\")\n",
        "dat.loc[dat.roi == 'Telencephalon_L']\n",
        "\n",
        "dat.head(4)"
      ],
      "execution_count": 8,
      "outputs": [
        {
          "output_type": "execute_result",
          "data": {
            "text/html": [
              "<div>\n",
              "<style scoped>\n",
              "    .dataframe tbody tr th:only-of-type {\n",
              "        vertical-align: middle;\n",
              "    }\n",
              "\n",
              "    .dataframe tbody tr th {\n",
              "        vertical-align: top;\n",
              "    }\n",
              "\n",
              "    .dataframe thead th {\n",
              "        text-align: right;\n",
              "    }\n",
              "</style>\n",
              "<table border=\"1\" class=\"dataframe\">\n",
              "  <thead>\n",
              "    <tr style=\"text-align: right;\">\n",
              "      <th></th>\n",
              "      <th>Unnamed: 0</th>\n",
              "      <th>rawid</th>\n",
              "      <th>roi</th>\n",
              "      <th>volume</th>\n",
              "      <th>min</th>\n",
              "      <th>max</th>\n",
              "      <th>mean</th>\n",
              "      <th>std</th>\n",
              "      <th>type</th>\n",
              "      <th>level</th>\n",
              "      <th>id</th>\n",
              "      <th>icv</th>\n",
              "      <th>tbv</th>\n",
              "    </tr>\n",
              "  </thead>\n",
              "  <tbody>\n",
              "    <tr>\n",
              "      <th>0</th>\n",
              "      <td>1</td>\n",
              "      <td>kirby127a_3_1_ax.img</td>\n",
              "      <td>Telencephalon_L</td>\n",
              "      <td>531111</td>\n",
              "      <td>0.0</td>\n",
              "      <td>374.0</td>\n",
              "      <td>128.3013</td>\n",
              "      <td>51.8593</td>\n",
              "      <td>1</td>\n",
              "      <td>1</td>\n",
              "      <td>127</td>\n",
              "      <td>1378295</td>\n",
              "      <td>1268519</td>\n",
              "    </tr>\n",
              "    <tr>\n",
              "      <th>1</th>\n",
              "      <td>2</td>\n",
              "      <td>kirby127a_3_1_ax.img</td>\n",
              "      <td>Telencephalon_R</td>\n",
              "      <td>543404</td>\n",
              "      <td>0.0</td>\n",
              "      <td>300.0</td>\n",
              "      <td>135.0683</td>\n",
              "      <td>53.6471</td>\n",
              "      <td>1</td>\n",
              "      <td>1</td>\n",
              "      <td>127</td>\n",
              "      <td>1378295</td>\n",
              "      <td>1268519</td>\n",
              "    </tr>\n",
              "    <tr>\n",
              "      <th>2</th>\n",
              "      <td>3</td>\n",
              "      <td>kirby127a_3_1_ax.img</td>\n",
              "      <td>Diencephalon_L</td>\n",
              "      <td>9683</td>\n",
              "      <td>15.0</td>\n",
              "      <td>295.0</td>\n",
              "      <td>193.5488</td>\n",
              "      <td>32.2733</td>\n",
              "      <td>1</td>\n",
              "      <td>1</td>\n",
              "      <td>127</td>\n",
              "      <td>1378295</td>\n",
              "      <td>1268519</td>\n",
              "    </tr>\n",
              "    <tr>\n",
              "      <th>3</th>\n",
              "      <td>4</td>\n",
              "      <td>kirby127a_3_1_ax.img</td>\n",
              "      <td>Diencephalon_R</td>\n",
              "      <td>9678</td>\n",
              "      <td>10.0</td>\n",
              "      <td>335.0</td>\n",
              "      <td>193.7051</td>\n",
              "      <td>32.7869</td>\n",
              "      <td>1</td>\n",
              "      <td>1</td>\n",
              "      <td>127</td>\n",
              "      <td>1378295</td>\n",
              "      <td>1268519</td>\n",
              "    </tr>\n",
              "  </tbody>\n",
              "</table>\n",
              "</div>"
            ],
            "text/plain": [
              "   Unnamed: 0                 rawid              roi  ...   id      icv      tbv\n",
              "0           1  kirby127a_3_1_ax.img  Telencephalon_L  ...  127  1378295  1268519\n",
              "1           2  kirby127a_3_1_ax.img  Telencephalon_R  ...  127  1378295  1268519\n",
              "2           3  kirby127a_3_1_ax.img   Diencephalon_L  ...  127  1378295  1268519\n",
              "3           4  kirby127a_3_1_ax.img   Diencephalon_R  ...  127  1378295  1268519\n",
              "\n",
              "[4 rows x 13 columns]"
            ]
          },
          "metadata": {
            "tags": []
          },
          "execution_count": 8
        }
      ]
    },
    {
      "cell_type": "markdown",
      "metadata": {
        "id": "wx236_JS7a3n",
        "colab_type": "text"
      },
      "source": [
        "#**1. Fit a model to the kirby 21 dataset into colab. Do a scatterplot of the left telencephalon (type 1 level 1) volume by the right**"
      ]
    },
    {
      "cell_type": "code",
      "metadata": {
        "id": "nvC_ZbCQbNvp",
        "colab_type": "code",
        "colab": {
          "base_uri": "https://localhost:8080/",
          "height": 324
        },
        "outputId": "b1f6ab66-76f9-4599-87b0-c85c142e004b"
      },
      "source": [
        "# Extract the Type 1 Level 1 data from Left Telencephalon\n",
        "t1l1_TelL = dat.loc[(dat.type == 1) & (dat.level == 1) & (dat.roi == 'Telencephalon_L')]\n",
        "t1l1_TelL.reset_index(drop=True, inplace=True)\n",
        "# Extract the Type 1 Level 1 data from Right Telencephalon\n",
        "t1l1_TelR = dat.loc[(dat.type == 1) & (dat.level == 1) & (dat.roi == 'Telencephalon_R')]\n",
        "t1l1_TelR.reset_index(drop=True, inplace=True)\n",
        "\n",
        "# Create a scatter plot\n",
        "plt.plot(t1l1_TelL.volume, t1l1_TelR.volume, 'o')\n",
        "\n",
        "plt.xlabel('Left Side Volume')\n",
        "plt.ylabel('Right Side Volume')\n",
        "plt.title('Telencephalon Volume')"
      ],
      "execution_count": 9,
      "outputs": [
        {
          "output_type": "execute_result",
          "data": {
            "text/plain": [
              "Text(0.5, 1.0, 'Telencephalon Volume')"
            ]
          },
          "metadata": {
            "tags": []
          },
          "execution_count": 9
        },
        {
          "output_type": "display_data",
          "data": {
            "image/png": "[encoded data removed]",
            "text/plain": [
              "<Figure size 432x288 with 1 Axes>"
            ]
          },
          "metadata": {
            "tags": []
          }
        }
      ]
    },
    {
      "cell_type": "markdown",
      "metadata": {
        "id": "1X5UgDqn7l_Z",
        "colab_type": "text"
      },
      "source": [
        "#**2. Create a vector of the left telencelphalon (type 1 level 1) volume values and the right. Demean each. Fit a regression through the origin model with the left telecephalon as the outcome and the right as the predictor**"
      ]
    },
    {
      "cell_type": "code",
      "metadata": {
        "id": "hGVjR7AafFF5",
        "colab_type": "code",
        "colab": {
          "base_uri": "https://localhost:8080/",
          "height": 346
        },
        "outputId": "d00b6370-8656-47f0-9a4f-f4d5df935d06"
      },
      "source": [
        "## The left as the predictor (x), right as the outcome (y).\n",
        "# Create a vector of the left telencelphalon (type 1 level 1) volume values\n",
        "x_L = t1l1_TelL.volume\n",
        "\n",
        "# Create a vector of the right telencelphalon (type 1 level 1) volume values\n",
        "y_R = t1l1_TelR.volume\n",
        "\n",
        "#  Demean x and y\n",
        "x = x_L - np.mean(x_L)\n",
        "y = y_R - np.mean(y_R)\n",
        "\n",
        "plt.plot(x, y, 'o')\n",
        "b = sum(y * x) / sum(x ** 2 )\n",
        "t = np.array([-125000, 75000])\n",
        "plt.plot(t, t * b)\n",
        "\n",
        "print(\"b is: %f\" %b)\n",
        "\n",
        "plt.xlabel('Left Side Volume')\n",
        "plt.ylabel('Right Side Volume')\n",
        "plt.title('Telencephalon Volume: Left Predictor')"
      ],
      "execution_count": 10,
      "outputs": [
        {
          "output_type": "stream",
          "text": [
            "b is: 1.044242\n"
          ],
          "name": "stdout"
        },
        {
          "output_type": "execute_result",
          "data": {
            "text/plain": [
              "Text(0.5, 1.0, 'Telencephalon Volume: Left Predictor')"
            ]
          },
          "metadata": {
            "tags": []
          },
          "execution_count": 10
        },
        {
          "output_type": "display_data",
          "data": {
            "image/png": "[encoded data removed]",
            "text/plain": [
              "<Figure size 432x288 with 1 Axes>"
            ]
          },
          "metadata": {
            "tags": []
          }
        }
      ]
    },
    {
      "cell_type": "markdown",
      "metadata": {
        "id": "qRzVIbVn7wqF",
        "colab_type": "text"
      },
      "source": [
        "#**Also do the same with the left as the predictor and the right as the outcome. Plot the fitted lines on your scatterplot.**"
      ]
    },
    {
      "cell_type": "code",
      "metadata": {
        "id": "iXzsw7vWxMFA",
        "colab_type": "code",
        "colab": {
          "base_uri": "https://localhost:8080/",
          "height": 346
        },
        "outputId": "ba7c2723-b8cc-40f6-c050-bdba60fd19a7"
      },
      "source": [
        "## The left as the predictor, right as the outcome.\n",
        "# Create a vector of the left telencelphalon (type 1 level 1) volume values\n",
        "y_L = t1l1_TelL.volume\n",
        "\n",
        "# Create a vector of the right telencelphalon (type 1 level 1) volume values\n",
        "x_R = t1l1_TelR.volume\n",
        "\n",
        "#  Demean x and y\n",
        "x = x_R - np.mean(x_R)\n",
        "y = y_L - np.mean(y_L)\n",
        "\n",
        "plt.plot(x, y, 'o')\n",
        "b = sum(y * x) / sum(x ** 2 )\n",
        "t = np.array([-125000, 75000])\n",
        "plt.plot(t, t * b)\n",
        "\n",
        "print(\"b is: %f\" %b)\n",
        "plt.xlabel('Right Side Volume')\n",
        "plt.ylabel('Left Side Volume')\n",
        "plt.title('Telencephalon Volume: Right Predictor')"
      ],
      "execution_count": 11,
      "outputs": [
        {
          "output_type": "stream",
          "text": [
            "b is: 0.950055\n"
          ],
          "name": "stdout"
        },
        {
          "output_type": "execute_result",
          "data": {
            "text/plain": [
              "Text(0.5, 1.0, 'Telencephalon Volume: Right Predictor')"
            ]
          },
          "metadata": {
            "tags": []
          },
          "execution_count": 11
        },
        {
          "output_type": "display_data",
          "data": {
            "image/png": "[encoded data removed]",
            "text/plain": [
              "<Figure size 432x288 with 1 Axes>"
            ]
          },
          "metadata": {
            "tags": []
          }
        }
      ]
    },
    {
      "cell_type": "markdown",
      "metadata": {
        "id": "MLMct2PuH7oj",
        "colab_type": "text"
      },
      "source": [
        "#**3. Consider a regression through the origin model  𝑌=𝐵𝑋 . What would be the impact on the estimate of  𝐵  if we replaced  𝑋  by  𝑐𝑋  where  𝑐  is a positive constant?**\n",
        "##b would reduce by a factor of 1/c"
      ]
    },
    {
      "cell_type": "markdown",
      "metadata": {
        "id": "J-tjwfW80FmZ",
        "colab_type": "text"
      },
      "source": [
        "#**4. Let $X_i$ be a group indicator so that**\n",
        "$$\n",
        "x_i = I(i \\in G_1)\n",
        "$$\n",
        "I.e. takes the value $1$ when $i$ is in group 1 and 0 if $i$ is in group 0. Consider optimizing \n",
        "$$\n",
        "\\sum_{i=1}^n (Y_i - \\beta_0 - \\beta_1 X_i)^2.\n",
        "$$\n",
        "**If $\\hat Y = \\hat \\beta_0 + \\hat \\beta_1 X$ argue that\n",
        "$\\hat Y$ is the group mean for group 1 if $X=1$ and the group mean for group 0 if $X=0$.**\n"
      ]
    },
    {
      "cell_type": "markdown",
      "metadata": {
        "id": "mNLT_7yF4fc_",
        "colab_type": "text"
      },
      "source": [
        "Consider a $y$ vector and an $x$ vector that is a colleciton of $1$s and $0$s (corresponding to group 1 and group 0, respectively).\n",
        "\n",
        "Let $n_1$, $n_0$  be the number in group 1, 0 and $n=n_1 + n_0$.  Let $p_1$ be the fraction of observations in group 1, i.e. $n_1 / n$ and $p_0 = n_0 / n$ be the fraction of observations in group 0. Let $\\bar y_1$ and $\\bar y_0$ be the means of $y$ in each group and $\\bar y$ be the overall mean of the $y$. \n",
        "\n",
        "The following are pretty easy to show:\n",
        "* $\\bar x = p_1$\n",
        "$$\\bar x = \\frac {1}{n} \\sum_{i = 1}^n x_i = \\frac{n_1}{n} = p_1$$\n",
        "* $\\bar y = p_1 \\bar y_1 + p_0 \\bar y_0$\n",
        "$$\n",
        "$$\n",
        "If we know the means of group 0 and group 1, the overal mean of y can be found by multiplying the means by each of their percent contributions to the total y vector. Thus giving us: \n",
        "$$\\bar y = p_1 \\bar y_1 + p_0 \\bar y_0$$\n",
        "* $\\sum_{i=1}^n (x_i - p_1)^2 = n_1 p_0^2 + n_0 p_1 ^2 = n p_1 p_0 $\n",
        "$$$$Can be expanded to \n",
        "$$ \\sum_{i=1}^n (x_i - p_1)^2 = \\sum_{i=1}^n (x_i)^2  2\\sum_{i=1}^n (x_ip_1) + \\sum_{i=1}^n p_1^2$$\n",
        "$$ \\sum_{i=1}^n (x_i - p_1)^2 = \\sum_{i=1}^n (x_i)^2 - 2p_1(p_1)(n_0 + n_1) + n p_1^2$$\n",
        "$$ \\sum_{i=1}^n (x_i - p_1)^2 = \\sum_{i=1}^n (x_i)^2 - (n_0 + n_1) p_1^2$$\n",
        "$$ \\sum_{i=1}^n (x_i - p_1)^2 = n_1 - (n_0 + n_1) p_1^2$$\n",
        "$$ \\sum_{i=1}^n (x_i - p_1)^2 = \\frac{n^2*n_1}{n} - (n_0 + n_1) p_1^2$$\n",
        "$$ \\sum_{i=1}^n (x_i - p_1)^2 = \\frac{(n_1+n_0)^2*n_1}{n^2} - (n_0 + n_1) p_1^2$$\n",
        "$$ \\sum_{i=1}^n (x_i - p_1)^2 = \\frac{({n_1}^2+2n_1n_0+{n_0}^2)n_1}{n^2} - (n_0 + n_1) p_1^2$$\n",
        "$$ \\sum_{i=1}^n (x_i - p_1)^2 = n_1{p_1}^2+2n_0{p_1}^2+n_1{p_0}^2-n_0{p_1}^2-n_1{p_1}^2$$\n",
        "$$ \\sum_{i=1}^n (x_i - p_1)^2 = n_1 p_0^2 + n_0 p_1 ^2$$\n",
        "$$ \\sum_{i=1}^n (x_i - p_1)^2 = \\frac{{n_1}^2n_0}{n^2} + \\frac{{n_0}^2n_1}{n^2}$$\n",
        "$$ \\sum_{i=1}^n (x_i - p_1)^2 = \\frac{{n_1}^2n_0+{n_0}^2n_1}{n^2}$$\n",
        "$$ \\sum_{i=1}^n (x_i - p_1)^2 = \\frac{n_0({n_1}^2+{n_0}n_1)}{n^2}$$\n",
        "$$ \\sum_{i=1}^n (x_i - p_1)^2 = \\frac{p_0n_1({n_1}+{n_0})}{n}$$\n",
        "$$ \\sum_{i=1}^n (x_i - p_1)^2 = {p_0p_1({n_1}+{n_0})}$$\n",
        "$$ \\sum_{i=1}^n (x_i - p_1)^2 = n p_1 p_0$$\n",
        "\n",
        "We want to show that $\\hat \\beta_0 = \\bar y_0$ and $\\hat \\beta_0 + \\hat \\beta_1 = \\bar y_1$.\n",
        "However, we know that $\\hat \\beta_0 = \\bar y - \\hat \\beta_1 \\bar x $. So, it must be the case that $\\bar y_0 = \\bar y - \\hat \\beta_1 \\bar x$. Plugging in our existing results, we get that\n",
        "$$\n",
        "\\hat \\beta_1 = \\bar y_1 - \\bar y_0.\n",
        "$$\n",
        "It's easy to then check that if this is $\\hat \\beta_1$ then the problem is solved.  So, if we can show that, we're done.\n",
        "\n",
        "Let $G_1$ and $G_0$ be the indices for groups 1 and 0. Consider:\n",
        "$$\n",
        "\\begin{align}\n",
        "\\hat \\beta_1 & = \\frac{\\sum_{i=1}^n (y_i - \\bar y) (x_i - p_1)}{\\sum_{i=1}^n (x_i - p_1)^2}\\\\\n",
        "& = \\frac{\\sum_{i\\in G_1}^n (y_i - \\bar y) (x_i - p_1) + \\sum_{i\\in G_0}^n (y_i - \\bar y) (x_i - p_1)}{n p_1 p_0} \\\\\n",
        "\\end{align}$$\n",
        "Given $x_1 = 1$ and $x_0 = 0$\n",
        "$$\n",
        "\\begin{align}\n",
        "& = \\frac{(x_1 - p_1)\\sum_{i\\in G_1}^n (y_i - \\bar y)  + (x_0 - p_1)\\sum_{i\\in G_0}^n (y_i - \\bar y) }{n p_1 p_0} \\\\\n",
        "& = \\frac{(p_0)\\sum_{i\\in G_1}^n (y_i - \\bar y)  + (- p_1)\\sum_{i\\in G_0}^n (y_i - \\bar y) }{n p_1 p_0} \\\\\n",
        "& = \\frac{(p_0) n_1 (\\bar y_1 - \\bar y)  + (- p_1)n_0 (\\bar y_0 - \\bar y)}{n p_1 p_0} \\\\\n",
        "& = \\frac{n_1 \\bar y_1 p_0 - n_1\\bar y p_0 - n_0 \\bar y_0 p_1 + n_0 \\bar y p_1}{n p_1 p_0} \\\\\n",
        "& = \\frac{n_1 \\bar y_1 p_0 - n_1\\bar y p_0 - n_0 \\bar y_0 p_1 + n_0 \\bar y p_1}{n p_1 p_0} \\\\\n",
        "& = \\frac{n_1 \\bar y_1 p_0 }{n p_1 p_0} - \\frac{n_1\\bar y p_0 }{n p_1 p_0} - \\frac{n_0 \\bar y_0 p_1}{n p_1 p_0} + \\frac{n_0 \\bar y p_1}{n p_1 p_0}\\\\\n",
        "& = \\bar y_1 - \\bar y - \\bar y_0 + \\bar y \\\\\n",
        "& = \\bar y_1 - \\bar y_0 \n",
        "\\end{align}\n",
        "$$\n",
        "\n",
        "\n"
      ]
    },
    {
      "cell_type": "markdown",
      "metadata": {
        "id": "ON-p9mzg277t",
        "colab_type": "text"
      },
      "source": [
        "#**5. Write a python function that takes an X and Y vector and returns an estimated $\\beta_0$ and $\\beta_1$ from linear regression.**"
      ]
    },
    {
      "cell_type": "code",
      "metadata": {
        "id": "N0Ifh8a10-6t",
        "colab_type": "code",
        "colab": {}
      },
      "source": [
        "def regression_values(x, y):\n",
        "\n",
        "## get the slope on the data\n",
        "  beta1 = st.pearsonr(x, y)[0] * np.std(y) / np.std(x)\n",
        "  beta0 = np.mean(y) - np.mean(x) * beta1\n",
        "  return([beta0, beta1])"
      ],
      "execution_count": 12,
      "outputs": []
    },
    {
      "cell_type": "markdown",
      "metadata": {
        "id": "YVSSOQc_3Bxv",
        "colab_type": "text"
      },
      "source": [
        "#**6. Consider the Kirby 21 data. Plot a scatter plot of the left diencephalon (type 1 level 1) and the right. Find the best line fit for predicting the right using the left. Plot the line on the scatterplot. Find the best fit line for predicting the left using the right as a predictor. Plot this on the same plot.**"
      ]
    },
    {
      "cell_type": "code",
      "metadata": {
        "id": "uQM9433N11PX",
        "colab_type": "code",
        "colab": {
          "base_uri": "https://localhost:8080/",
          "height": 346
        },
        "outputId": "6d08b090-ecad-4b65-9c42-c5342b811851"
      },
      "source": [
        "# Extract the Type 1 Level 1 data from Left Diencephalon\n",
        "t1l1_DienL = dat.loc[(dat.type == 1) & (dat.level == 1) & (dat.roi == 'Diencephalon_L')]\n",
        "t1l1_DienL.reset_index(drop=True, inplace=True)\n",
        "# Extract the Type 1 Level 1 data from Right Diencephalon\n",
        "t1l1_DienR = dat.loc[(dat.type == 1) & (dat.level == 1) & (dat.roi == 'Diencephalon_R')]\n",
        "t1l1_DienR.reset_index(drop=True, inplace=True)\n",
        "\n",
        "# Create a vector of the left Diencephalon (type 1 level 1) volume values\n",
        "y_L = t1l1_DienL.volume\n",
        "x_L = t1l1_DienL.volume\n",
        "\n",
        "# Create a vector of the right Diencephalon (type 1 level 1) volume values\n",
        "y_R = t1l1_DienR.volume\n",
        "x_R = t1l1_DienR.volume\n",
        "\n",
        "plt.plot(x_L, y_R, 'o')\n",
        "t = np.array([7000, 12000])\n",
        "\n",
        "# Line of best fit for predicting the right using the left\n",
        "beta_val_L = regression_values(x_L, y_R)\n",
        "\n",
        "reg_line_L = beta_val_L[0] + beta_val_L[1] * t;\n",
        "plt.plot(t, reg_line_L)\n",
        "\n",
        "# Line of best fit for predicting the left using the right\n",
        "beta_val_R = regression_values(x_R, y_L)\n",
        "\n",
        "reg_line_R = beta_val_R[0] + beta_val_R[1] * t;\n",
        "plt.plot(t, reg_line_R)\n",
        "plt.legend(['Left as Predictor', 'Left as Predictor', 'Right as Predictor'])\n",
        "\n",
        "plt.xlabel('Left Side Volume')\n",
        "plt.ylabel('Right Side Volume')\n",
        "plt.title('Diencephalon Volume')\n",
        "\n",
        "print('For Left as the predictor: B0 = %f and B1 = %f' %(beta_val_L[0], beta_val_L[1]))\n",
        "print('For Right as the predictor: B0 = %f and B1 = %f' %(beta_val_R[0], beta_val_R[1]))"
      ],
      "execution_count": 13,
      "outputs": [
        {
          "output_type": "stream",
          "text": [
            "For Left as the predictor: B0 = 1267.747865 and B1 = 0.868142\n",
            "For Right as the predictor: B0 = -694.180922 and B1 = 1.067568\n"
          ],
          "name": "stdout"
        },
        {
          "output_type": "display_data",
          "data": {
            "image/png": "[encoded data removed]",
            "text/plain": [
              "<Figure size 432x288 with 1 Axes>"
            ]
          },
          "metadata": {
            "tags": []
          }
        }
      ]
    },
    {
      "cell_type": "markdown",
      "metadata": {
        "id": "gXoiB2M_7RMe",
        "colab_type": "text"
      },
      "source": [
        "#**7. Argue that if you take the vectors $Y$ and $X$ and divide them by their standard deviations (respectively), the slope for either regressing $Y$ on $X$ or $X$ on $Y$ is simply the correlation.**\n",
        "\n",
        "##To find a regression line, we use the formula \n",
        "##$$\\hat \\beta_0 = \\bar Y - \\bar X \\hat \\beta_1$$\n",
        "##Pearon Correlation is defined as: \n",
        "##$$\\frac{Cov(X, Y)}{SD_X \\times SD_Y}$$\n",
        "##where:$$Cov(X,Y) = \\sum_{i=1}^n (Y_i - \\bar Y) (X_i - \\bar X) / (N-1)$$\n",
        "##We know,\n",
        "##$$\\hat \\beta_1 = Cor(X, Y) \\frac{SD_Y}{SD_X}$$\n",
        "$$and$$\n",
        "##$$\\hat \\beta_1 = \\frac{\\sum_{i=1}^n (Y_i - \\bar Y) (X_i - \\bar X)}{\\sum_{i=1}^n (X_i - \\bar X)^2} $$\n",
        "##However, if we divide $\\bar Y$ and $\\bar X$ by their respective standard deviations, we find\n",
        "##$$\\hat \\beta_1 = \\frac{\\sum_{i=1}^n (Y_i - \\bar Y) (X_i - \\bar X)}{\\sum_{i=1}^n (X_i - \\bar X)^2} \\frac{SD_X}{SD_Y}$$\n",
        "\n",
        "##$$\\hat \\beta_1 = Cor(X, Y) \\frac{SD_Y}{SD_X}\\frac{SD_X}{SD_Y}$$\n",
        "\n",
        "##Thus, $$\\hat \\beta_1 = Cor(X, Y)$$"
      ]
    }
  ]
}